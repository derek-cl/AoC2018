{
 "cells": [
  {
   "cell_type": "markdown",
   "metadata": {},
   "source": [
    "### Advent of Code 2018 : Day 5 "
   ]
  },
  {
   "cell_type": "code",
   "execution_count": 3,
   "metadata": {},
   "outputs": [],
   "source": [
    "input_lines=\"\"\"hHsSmMHhhHwWlLojYCclLyJtPpTZzqdFfDYymMjJxXQOiIiSbBsGLROorMmlgvVkiIKRrGxXgZteETzUunNbBAaWwplrRoOgGLlJvzZoNnEeqQOVjQWwqzZJBb\"\"\"\n",
    "\n"
   ]
  },
  {
   "cell_type": "markdown",
   "metadata": {},
   "source": [
    "#### Part 1  : Find length of input string after removal of all uppercase/lowercase pairs"
   ]
  },
  {
   "cell_type": "markdown",
   "metadata": {},
   "source": [
    "##### Create list of all possible replacement strings: aA, Aa, bB, Bb ...Zz"
   ]
  },
  {
   "cell_type": "code",
   "execution_count": 4,
   "metadata": {},
   "outputs": [
    {
     "name": "stdout",
     "output_type": "stream",
     "text": [
      "abcdefghijklmnopqrstuvwxyz\n",
      "ABCDEFGHIJKLMNOPQRSTUVWXYZ\n"
     ]
    },
    {
     "data": {
      "text/plain": [
       "['aA',\n",
       " 'Aa',\n",
       " 'bB',\n",
       " 'Bb',\n",
       " 'cC',\n",
       " 'Cc',\n",
       " 'dD',\n",
       " 'Dd',\n",
       " 'eE',\n",
       " 'Ee',\n",
       " 'fF',\n",
       " 'Ff',\n",
       " 'gG',\n",
       " 'Gg',\n",
       " 'hH',\n",
       " 'Hh',\n",
       " 'iI',\n",
       " 'Ii',\n",
       " 'jJ',\n",
       " 'Jj',\n",
       " 'kK',\n",
       " 'Kk',\n",
       " 'lL',\n",
       " 'Ll',\n",
       " 'mM',\n",
       " 'Mm',\n",
       " 'nN',\n",
       " 'Nn',\n",
       " 'oO',\n",
       " 'Oo',\n",
       " 'pP',\n",
       " 'Pp',\n",
       " 'qQ',\n",
       " 'Qq',\n",
       " 'rR',\n",
       " 'Rr',\n",
       " 'sS',\n",
       " 'Ss',\n",
       " 'tT',\n",
       " 'Tt',\n",
       " 'uU',\n",
       " 'Uu',\n",
       " 'vV',\n",
       " 'Vv',\n",
       " 'wW',\n",
       " 'Ww',\n",
       " 'xX',\n",
       " 'Xx',\n",
       " 'yY',\n",
       " 'Yy',\n",
       " 'zZ',\n",
       " 'Zz']"
      ]
     },
     "execution_count": 4,
     "metadata": {},
     "output_type": "execute_result"
    }
   ],
   "source": [
    "lo = 'abcdefghijklmnopqrstuvwxyz'\n",
    "hi=lo.upper()\n",
    "print(lo)\n",
    "print(hi)\n",
    "\n",
    "pairs=[]\n",
    "\n",
    "for i,l in enumerate(lo):\n",
    "    \n",
    "    pairs.append(l + hi[i])\n",
    "    pairs.append(hi[i] +l )    \n",
    "    \n",
    "pairs"
   ]
  },
  {
   "cell_type": "code",
   "execution_count": 5,
   "metadata": {},
   "outputs": [
    {
     "name": "stdout",
     "output_type": "stream",
     "text": [
      "ojJqdDQOiGLlgGgplJvoOVjQqJ\n",
      "oOiGgplJjJ\n",
      "iplJ\n",
      "iplJ\n",
      "4\n"
     ]
    }
   ],
   "source": [
    "input = input_lines\n",
    "new_input=''\n",
    "\n",
    "while len(input) != len(new_input):\n",
    "    new_input=input\n",
    "\n",
    "    for pair in pairs:\n",
    "\n",
    "        input = input.replace(pair, '')\n",
    "    \n",
    "    if len(input) < 100:\n",
    "        print(input)\n",
    "\n",
    "print(len(input))"
   ]
  },
  {
   "cell_type": "markdown",
   "metadata": {},
   "source": [
    "#### Part 2 : Find letter that when removed leaves lowest string length after removal of all uppercase/lowercase pairs:"
   ]
  },
  {
   "cell_type": "code",
   "execution_count": 6,
   "metadata": {},
   "outputs": [
    {
     "name": "stdout",
     "output_type": "stream",
     "text": [
      "a ojJqdDQOiGLlgGgplJvoOVjQqJ\n",
      "a oOiGgplJjJ\n",
      "a iplJ\n",
      "a iplJ\n",
      "b ojJqdDQOiGLlgGgplJvoOVjQqJ\n",
      "b oOiGgplJjJ\n",
      "b iplJ\n",
      "b iplJ\n",
      "c ojJqdDQOiGLlgGgplJvoOVjQqJ\n",
      "c oOiGgplJjJ\n",
      "c iplJ\n",
      "c iplJ\n",
      "d ojJqQOiGLlgGgplJvoOVjQqJ\n",
      "d oOiGgplJjJ\n",
      "d iplJ\n",
      "d iplJ\n",
      "e ojJqdDQOiGLlgGgplJvoOVjQqJ\n",
      "e oOiGgplJjJ\n",
      "e iplJ\n",
      "e iplJ\n",
      "f ojJqQOiGLlgGgplJvoOVjQqJ\n",
      "f oOiGgplJjJ\n",
      "f iplJ\n",
      "f iplJ\n",
      "g ojJqdDQOiLlplJvoOVjQqJ\n",
      "g oOiplJjJ\n",
      "g iplJ\n",
      "g iplJ\n",
      "h ojJqdDQOiGLlgGgplJvoOVjQqJ\n",
      "h oOiGgplJjJ\n",
      "h iplJ\n",
      "h iplJ\n",
      "i ojJqdDQOGLlgGgplJvoOVjQqJ\n",
      "i oOGgplJjJ\n",
      "i plJ\n",
      "i plJ\n",
      "j oqdDQOiGLlgGgplvoOVQq\n",
      "j oOiGgpl\n",
      "j ipl\n",
      "j ipl\n",
      "k ojJqdDQOiGLlgGgplJvoOVjQqJ\n",
      "k oOiGgplJjJ\n",
      "k iplJ\n",
      "k iplJ\n",
      "l ojJqdDQOiGgGgpJvoOVjQqJ\n",
      "l oOipJjJ\n",
      "l ipJ\n",
      "l ipJ\n",
      "m ojJqdDQOiGLlgGgplJvoOVjQqJ\n",
      "m oOiGgplJjJ\n",
      "m iplJ\n",
      "m iplJ\n",
      "n ojJqdDQOiGLlgGgplJvoOVjQqJ\n",
      "n oOiGgplJjJ\n",
      "n iplJ\n",
      "n iplJ\n",
      "o jJqdDQiGLlgGgplJvVjQqJ\n",
      "o iGgplJjJ\n",
      "o iplJ\n",
      "o iplJ\n",
      "p ojJqdDQOiGLlgGglJvoOVjQqJ\n",
      "p oOiGglJjJ\n",
      "p ilJ\n",
      "p ilJ\n",
      "q ojJdDOiGLlgGgplJvVjJ\n",
      "q iGgplJ\n",
      "q iplJ\n",
      "q iplJ\n",
      "r ojJqdDQOiGLlgGgplJvoOVjQqJ\n",
      "r oOiGgplJjJ\n",
      "r iplJ\n",
      "r iplJ\n",
      "s ojJqdDQOiGLlgGgplJvoOVjQqJ\n",
      "s oOiGgplJjJ\n",
      "s iplJ\n",
      "s iplJ\n",
      "t ojJqdDQOiGLlgGgplJvoOVjQqJ\n",
      "t oOiGgplJjJ\n",
      "t iplJ\n",
      "t iplJ\n",
      "u ojJqdDQOiGLlgGgplJvoOVjQqJ\n",
      "u oOiGgplJjJ\n",
      "u iplJ\n",
      "u iplJ\n",
      "v ojJqdDQOiGLlgGgplJoOjQqJ\n",
      "v oOiGgplJjJ\n",
      "v iplJ\n",
      "v iplJ\n",
      "w ojJqdDQOiGLlgGgplJvoOVjJ\n",
      "w oOiGgplJ\n",
      "w iplJ\n",
      "w iplJ\n",
      "x ojJqdDQOiGLlgplJvoOVjQqJ\n",
      "x oOiGgplJjJ\n",
      "x iplJ\n",
      "x iplJ\n",
      "y ojJqdDQOiGLlgGgplJvoOVjQqJ\n",
      "y oOiGgplJjJ\n",
      "y iplJ\n",
      "y iplJ\n",
      "z ojJqdDQOiGLlgGgplJvoOVjQqJ\n",
      "z oOiGgplJjJ\n",
      "z iplJ\n",
      "z iplJ\n",
      "Letter removed to give shortest length:  ('i', 3)\n"
     ]
    }
   ],
   "source": [
    "\n",
    "letters={}\n",
    "\n",
    "for letter in lo:\n",
    "    \n",
    "    input = input_lines\n",
    "    input = input.replace(letter, '')\n",
    "    input = input.replace(letter.upper(), '')    \n",
    "    new_input=''\n",
    "\n",
    "    \n",
    "    while len(input) != len(new_input):\n",
    "        new_input=input\n",
    "\n",
    "        for pair in pairs:\n",
    "\n",
    "            input = input.replace(pair, '')\n",
    "\n",
    "        if len(input) < 100:\n",
    "            print(letter, input)\n",
    "\n",
    "\n",
    "    letters[letter] = len(input)\n",
    "\n",
    "import operator\n",
    "print('Letter removed to give shortest length: ', sorted(letters.items(), key=operator.itemgetter(1))[0])\n"
   ]
  },
  {
   "cell_type": "code",
   "execution_count": null,
   "metadata": {},
   "outputs": [],
   "source": []
  },
  {
   "cell_type": "code",
   "execution_count": null,
   "metadata": {},
   "outputs": [],
   "source": []
  }
 ],
 "metadata": {
  "kernelspec": {
   "display_name": "Python [default]",
   "language": "python",
   "name": "python3"
  },
  "language_info": {
   "codemirror_mode": {
    "name": "ipython",
    "version": 3
   },
   "file_extension": ".py",
   "mimetype": "text/x-python",
   "name": "python",
   "nbconvert_exporter": "python",
   "pygments_lexer": "ipython3",
   "version": "3.6.2"
  }
 },
 "nbformat": 4,
 "nbformat_minor": 2
}
